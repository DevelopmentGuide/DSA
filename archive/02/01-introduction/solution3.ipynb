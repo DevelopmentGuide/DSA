{
 "cells": [
  {
   "attachments": {},
   "cell_type": "markdown",
   "metadata": {},
   "source": [
    "## Big O Notation"
   ]
  },
  {
   "attachments": {},
   "cell_type": "markdown",
   "metadata": {},
   "source": [
    "#### O(1)"
   ]
  },
  {
   "cell_type": "code",
   "execution_count": 3,
   "metadata": {},
   "outputs": [
    {
     "name": "stdout",
     "output_type": "stream",
     "text": [
      "True\n",
      "10\n"
     ]
    },
    {
     "data": {
      "text/plain": [
       "10"
      ]
     },
     "execution_count": 3,
     "metadata": {},
     "output_type": "execute_result"
    }
   ],
   "source": [
    "# Array\n",
    "nums = [1, 2, 3]\n",
    "nums.append(4)    # push to end\n",
    "nums.pop()        # pop from end\n",
    "nums[0]           # lookup\n",
    "nums[1]\n",
    "nums[2]\n",
    "\n",
    "# HashMap / Set\n",
    "hashMap = {}\n",
    "hashMap[\"key\"] = 10     # insert\n",
    "print(\"key\" in hashMap) # lookup\n",
    "print(hashMap[\"key\"])   # lookup\n",
    "hashMap.pop(\"key\")      # remove"
   ]
  },
  {
   "attachments": {},
   "cell_type": "markdown",
   "metadata": {},
   "source": [
    "#### O(n)"
   ]
  },
  {
   "cell_type": "code",
   "execution_count": 4,
   "metadata": {},
   "outputs": [
    {
     "name": "stdout",
     "output_type": "stream",
     "text": [
      "1\n",
      "2\n",
      "3\n",
      "False\n"
     ]
    }
   ],
   "source": [
    "nums = [1, 2, 3]\n",
    "sum(nums)           # sum of array\n",
    "for n in nums:      # looping\n",
    "    print(n)\n",
    "\n",
    "nums.insert(1, 100) # insert middle\n",
    "nums.remove(100)    # remove middle\n",
    "print(100 in nums)  # search\n",
    "\n",
    "import heapq\n",
    "heapq.heapify(nums) # build heap\n",
    "\n",
    "# sometimes even nested loops can be O(n)\n",
    "# (e.g. monotonic stack or sliding window)"
   ]
  },
  {
   "attachments": {},
   "cell_type": "markdown",
   "metadata": {},
   "source": [
    "#### O( n^2 )"
   ]
  },
  {
   "cell_type": "code",
   "execution_count": 5,
   "metadata": {},
   "outputs": [
    {
     "name": "stdout",
     "output_type": "stream",
     "text": [
      "1\n",
      "2\n",
      "3\n",
      "4\n",
      "5\n",
      "6\n",
      "7\n",
      "8\n",
      "9\n",
      "1 2\n",
      "1 3\n",
      "2 3\n"
     ]
    }
   ],
   "source": [
    "# Traverse a square grid\n",
    "nums = [[1, 2, 3], [4, 5, 6], [7, 8, 9]]\n",
    "for i in range(len(nums)):\n",
    "    for j in range(len(nums[i])): \n",
    "        print(nums[i][j])\n",
    "\n",
    "\n",
    "# Get every pair of elements in array\n",
    "nums = [1, 2, 3]\n",
    "for i in range(len(nums)):\n",
    "    for j in range(i + 1, len(nums)):\n",
    "        print(nums[i], nums[j])\n",
    "\n",
    "# Insertion sort (insert in middle n times -> n^2)"
   ]
  },
  {
   "attachments": {},
   "cell_type": "markdown",
   "metadata": {},
   "source": [
    "#### O( n * m )"
   ]
  },
  {
   "cell_type": "code",
   "execution_count": 6,
   "metadata": {},
   "outputs": [
    {
     "name": "stdout",
     "output_type": "stream",
     "text": [
      "1 4\n",
      "1 5\n",
      "2 4\n",
      "2 5\n",
      "3 4\n",
      "3 5\n",
      "1\n",
      "2\n",
      "3\n",
      "4\n",
      "5\n",
      "6\n"
     ]
    }
   ],
   "source": [
    "# Get every pair of elements from two arrays\n",
    "nums1, nums2 = [1, 2, 3], [4, 5]\n",
    "for i in range(len(nums1)):\n",
    "    for j in range(len(nums2)):\n",
    "        print(nums1[i], nums2[j])\n",
    "\n",
    "# Traverse rectangle grid\n",
    "nums = [[1, 2, 3], [4, 5, 6]]\n",
    "for i in range(len(nums)):\n",
    "    for j in range(len(nums[i])):\n",
    "        print(nums[i][j])"
   ]
  },
  {
   "attachments": {},
   "cell_type": "markdown",
   "metadata": {},
   "source": [
    "#### O( n^3 )"
   ]
  },
  {
   "cell_type": "code",
   "execution_count": 7,
   "metadata": {},
   "outputs": [
    {
     "name": "stdout",
     "output_type": "stream",
     "text": [
      "1 2 3\n"
     ]
    }
   ],
   "source": [
    "# Get every triplet of elements in array\n",
    "nums = [1, 2, 3]\n",
    "for i in range(len(nums)):\n",
    "    for j in range(i + 1, len(nums)):\n",
    "        for k in range(j + 1, len(nums)):\n",
    "            print(nums[i], nums[j], nums[k])"
   ]
  },
  {
   "attachments": {},
   "cell_type": "markdown",
   "metadata": {},
   "source": [
    "#### O( logn )"
   ]
  },
  {
   "cell_type": "code",
   "execution_count": 8,
   "metadata": {},
   "outputs": [
    {
     "data": {
      "text/plain": [
       "5"
      ]
     },
     "execution_count": 8,
     "metadata": {},
     "output_type": "execute_result"
    }
   ],
   "source": [
    "# Binary search\n",
    "nums = [1, 2, 3, 4, 5]\n",
    "target = 6\n",
    "l, r = 0, len(nums) - 1\n",
    "while l <= r:\n",
    "    m = (l + r) // 2\n",
    "    if target < nums[m]:\n",
    "        r = m - 1\n",
    "    elif target > nums[m]:\n",
    "        l = m + 1\n",
    "    else:\n",
    "        print(m)\n",
    "        break\n",
    "\n",
    "# Binary Search on BST\n",
    "def search(root, target):\n",
    "    if not root:\n",
    "        return False\n",
    "    if target < root.val:\n",
    "        return search(root.left, target)\n",
    "    elif target > root.val:\n",
    "        return search(root.right, target)\n",
    "    else: \n",
    "        return True\n",
    "\n",
    "# Heap Push and Pop\n",
    "import heapq\n",
    "minHeap = []\n",
    "heapq.heappush(minHeap, 5)\n",
    "heapq.heappop(minHeap)"
   ]
  },
  {
   "attachments": {},
   "cell_type": "markdown",
   "metadata": {},
   "source": [
    "#### O( nlogn )"
   ]
  },
  {
   "cell_type": "code",
   "execution_count": 9,
   "metadata": {},
   "outputs": [],
   "source": [
    "# HeapSort\n",
    "import heapq\n",
    "nums = [1, 2, 3, 4, 5]\n",
    "heapq.heapify(nums)     # O(n)\n",
    "while nums:\n",
    "    heapq.heappop(nums) # O(logn)\n",
    "\n",
    "# MergeSort (and most built-in sorting functions)"
   ]
  },
  {
   "attachments": {},
   "cell_type": "markdown",
   "metadata": {},
   "source": [
    "#### O( 2^n )"
   ]
  },
  {
   "cell_type": "code",
   "execution_count": 10,
   "metadata": {},
   "outputs": [],
   "source": [
    "# Recursion, tree height n, two branches\n",
    "def recursion(i, nums):\n",
    "    if i == len(nums):\n",
    "        return 0\n",
    "    branch1 = recursion(i + 1, nums)\n",
    "    branch2 = recursion(i + 2, nums)"
   ]
  },
  {
   "attachments": {},
   "cell_type": "markdown",
   "metadata": {},
   "source": [
    "#### O( c^n )"
   ]
  },
  {
   "cell_type": "code",
   "execution_count": 11,
   "metadata": {},
   "outputs": [],
   "source": [
    "# c branches, where c is sometimes n.\n",
    "def recursion(i, nums, c):\n",
    "    if i == len(nums):\n",
    "        return 0\n",
    "    \n",
    "    for j in range(i, i + c):\n",
    "        branch = recursion(j + 1, nums)"
   ]
  },
  {
   "attachments": {},
   "cell_type": "markdown",
   "metadata": {},
   "source": [
    "#### O( sqrt(n) )"
   ]
  },
  {
   "cell_type": "code",
   "execution_count": 12,
   "metadata": {},
   "outputs": [],
   "source": [
    "# Get all factors of n\n",
    "import math\n",
    "n = 12\n",
    "factors = set()\n",
    "for i in range(1, int(math.sqrt(n)) + 1):\n",
    "    if n % i == 0:\n",
    "        factors.add(i)\n",
    "        factors.add(n // i)"
   ]
  }
 ],
 "metadata": {
  "kernelspec": {
   "display_name": "Python 3",
   "language": "python",
   "name": "python3"
  },
  "language_info": {
   "codemirror_mode": {
    "name": "ipython",
    "version": 3
   },
   "file_extension": ".py",
   "mimetype": "text/x-python",
   "name": "python",
   "nbconvert_exporter": "python",
   "pygments_lexer": "ipython3",
   "version": "3.11.1 (tags/v3.11.1:a7a450f, Dec  6 2022, 19:58:39) [MSC v.1934 64 bit (AMD64)]"
  },
  "orig_nbformat": 4,
  "vscode": {
   "interpreter": {
    "hash": "72b2382ece9768098284d92bbc69d35954e75b60d1e25897d1389c232f4796f0"
   }
  }
 },
 "nbformat": 4,
 "nbformat_minor": 2
}
