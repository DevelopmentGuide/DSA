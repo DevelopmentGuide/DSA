{
  "cells": [
    {
      "cell_type": "markdown",
      "metadata": {},
      "source": [
        "## 1. Introduction to Array"
      ]
    },
    {
      "cell_type": "markdown",
      "metadata": {},
      "source": [
        "**An array is a data structure for storing more than one data item that has a similar data type**. The items of an array are allocated at adjacent memory locations. These memory locations are called **elements of that array**. The total number of elements in an array is called **length**."
      ]
    },
    {
      "cell_type": "markdown",
      "metadata": {},
      "source": [
        "#### ARRAY DECLARATION AND INITIALIZATION"
      ]
    },
    {
      "cell_type": "code",
      "execution_count": 1,
      "metadata": {},
      "outputs": [
        {
          "name": "stdout",
          "output_type": "stream",
          "text": [
            "[12, 13, 14]\n",
            "3\n",
            "[11, 12, 13, 14]\n",
            "[11, 12, 14]\n",
            "11\n",
            "12\n",
            "14\n"
          ]
        }
      ],
      "source": [
        "# ARRAY\n",
        "array1 = [12, 13, 14]\n",
        "print(array1)\n",
        "print(len(array1))\n",
        "\n",
        "# ADD NEW ELEMENT TO THE BEGINNING OF THE LIST\n",
        "array1.insert(0, 11)\n",
        "print(array1)\n",
        "\n",
        "# REMOVE ELEMENT FROM THE END OF THE LIST\n",
        "array1.remove(13)\n",
        "print(array1)\n",
        "\n",
        "# GET INDIVIDUAL ELEMENTS\n",
        "for i in range(len(array1)):\n",
        "    print(array1[i])"
      ]
    },
    {
      "cell_type": "markdown",
      "metadata": {},
      "source": [
        "#### GET SUM OF INDIVIDUAL ELEMENTS"
      ]
    },
    {
      "cell_type": "code",
      "execution_count": 2,
      "metadata": {},
      "outputs": [
        {
          "name": "stdout",
          "output_type": "stream",
          "text": [
            "5000000015\n"
          ]
        }
      ],
      "source": [
        "array2 = [1000000001, 1000000002, 1000000003, 1000000004, 1000000005]\n",
        "sum = 0\n",
        "for i in range(len(array2)):\n",
        "    sum += array2[i]\n",
        "print(sum)"
      ]
    },
    {
      "cell_type": "markdown",
      "metadata": {},
      "source": [
        "#### COUNT IN STRING"
      ]
    },
    {
      "cell_type": "code",
      "execution_count": 1,
      "metadata": {},
      "outputs": [
        {
          "name": "stdout",
          "output_type": "stream",
          "text": [
            "1\n"
          ]
        }
      ],
      "source": [
        "string1 = 'my name is john doeY'\n",
        "findNum = 'a'\n",
        "array3 = []\n",
        "num1 = 0\n",
        "num2 = 0\n",
        "for i in range(len(string1)):\n",
        "    array3.append(string1[i])\n",
        "\n",
        "for i in range(len(array3)):\n",
        "    if findNum == array3[i]:\n",
        "        num1 = i\n",
        "\n",
        "for i in range(len(array3)):\n",
        "    if findNum == array3[i]:\n",
        "        num2 += 1\n",
        "print(num2)"
      ]
    }
  ],
  "metadata": {
    "kernelspec": {
      "display_name": "Python 3.10.5 64-bit",
      "language": "python",
      "name": "python3"
    },
    "language_info": {
      "codemirror_mode": {
        "name": "ipython",
        "version": 3
      },
      "file_extension": ".py",
      "mimetype": "text/x-python",
      "name": "python",
      "nbconvert_exporter": "python",
      "pygments_lexer": "ipython3",
      "version": "3.10.5"
    },
    "orig_nbformat": 4,
    "vscode": {
      "interpreter": {
        "hash": "11c33d6eeb5650e798749efbca39eb0eb0ba9910d506f7683eed76ea7d5e1671"
      }
    }
  },
  "nbformat": 4,
  "nbformat_minor": 2
}
